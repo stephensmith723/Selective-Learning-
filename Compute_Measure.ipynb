{
 "cells": [
  {
   "cell_type": "code",
   "execution_count": 5,
   "metadata": {},
   "outputs": [],
   "source": [
    "import numpy as np \n",
    "import math\n",
    "\n",
    "def compute_measure(predicted_label, true_label):\n",
    "    t_idx = (predicted_label == true_label) # truely predicted \n",
    "    f_idx = np.logical_not(t_idx) # falsely predicted\n",
    "\n",
    "    p_idx = (true_label > 0) # positive targets\n",
    "    n_idx = np.logical_not(p_idx)# negative targets\n",
    "\n",
    "    tp = np.sum( np.logical_and(t_idx, p_idx)) # TP \n",
    "    tn = np.sum( np.logical_and(t_idx, n_idx)) # TN\n",
    "\n",
    "    # false positive: original negative but classified as positive \n",
    "    # false negative: original positive but classified as negative\n",
    "\n",
    "    fp = np.sum(n_idx) - tn \n",
    "    fn = np.sum(p_idx) - tp\n",
    "        \n",
    "    tp_fp_tn_fn_list=[] \n",
    "    tp_fp_tn_fn_list.append(tp) \n",
    "    tp_fp_tn_fn_list.append(fp) \n",
    "    tp_fp_tn_fn_list.append(tn)\n",
    "    tp_fp_tn_fn_list.append(fn) \n",
    "    tp_fp_tn_fn_list=np.array(tp_fp_tn_fn_list)\n",
    "\n",
    "    tp=tp_fp_tn_fn_list[0] \n",
    "    fp=tp_fp_tn_fn_list[1]\n",
    "    tn=tp_fp_tn_fn_list[2] \n",
    "    fn=tp_fp_tn_fn_list[3]\n",
    "    \n",
    "    with np.errstate(divide='ignore'): \n",
    "        sen = (1.0*tp)/(tp+fn)\n",
    "    with np.errstate(divide='ignore'): \n",
    "        spc = (1.0*tn)/(tn+fp)\n",
    "    with np.errstate(divide='ignore'): \n",
    "        ppr = (1.0*tp)/(tp+fp)\n",
    "    with np.errstate(divide='ignore'): \n",
    "        npr = (1.0*tn)/(tn+fn)\n",
    "        \n",
    "    acc = (tp+tn)*1.0/(tp+fp+tn+fn) \n",
    "    ans=[]\n",
    "    ans.append(acc)\n",
    "    ans.append(sen)\n",
    "    ans.append(spc) \n",
    "    ans.append(ppr) \n",
    "    ans.append(npr)\n",
    "    return ans"
   ]
  },
  {
   "cell_type": "code",
   "execution_count": null,
   "metadata": {
    "collapsed": true
   },
   "outputs": [],
   "source": []
  }
 ],
 "metadata": {
  "kernelspec": {
   "display_name": "Python 3",
   "language": "python",
   "name": "python3"
  },
  "language_info": {
   "codemirror_mode": {
    "name": "ipython",
    "version": 3
   },
   "file_extension": ".py",
   "mimetype": "text/x-python",
   "name": "python",
   "nbconvert_exporter": "python",
   "pygments_lexer": "ipython3",
   "version": "3.6.2"
  }
 },
 "nbformat": 4,
 "nbformat_minor": 2
}
